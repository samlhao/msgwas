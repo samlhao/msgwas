{
 "cells": [
  {
   "cell_type": "code",
   "execution_count": 1,
   "id": "f6a0d186-7153-4a15-9660-b1f9ad035060",
   "metadata": {},
   "outputs": [],
   "source": [
    "import scanpy as sc\n",
    "import numpy as np\n",
    "import pandas as pd\n",
    "import os"
   ]
  },
  {
   "cell_type": "code",
   "execution_count": 2,
   "id": "5551055f-b2c1-4a9b-934a-b71e4220f630",
   "metadata": {},
   "outputs": [],
   "source": [
    "os.chdir('/home/shao11/data_kfitzg13/msgwas_shao11')"
   ]
  },
  {
   "cell_type": "code",
   "execution_count": 3,
   "id": "635c6ae2-54a1-413c-a314-656e932fb83a",
   "metadata": {},
   "outputs": [],
   "source": [
    "schafflick = sc.read_h5ad('data/sc_data/pbmc/schafflick/processed/MS_CSF.h5ad')\n",
    "# copy of data exists in 'data/sc_data/csf/MS_CSF.h5ad'"
   ]
  },
  {
   "cell_type": "code",
   "execution_count": 4,
   "id": "37fdbf53-528f-460b-b337-82d8803ae130",
   "metadata": {},
   "outputs": [
    {
     "data": {
      "text/html": [
       "<div>\n",
       "<style scoped>\n",
       "    .dataframe tbody tr th:only-of-type {\n",
       "        vertical-align: middle;\n",
       "    }\n",
       "\n",
       "    .dataframe tbody tr th {\n",
       "        vertical-align: top;\n",
       "    }\n",
       "\n",
       "    .dataframe thead th {\n",
       "        text-align: right;\n",
       "    }\n",
       "</style>\n",
       "<table border=\"1\" class=\"dataframe\">\n",
       "  <thead>\n",
       "    <tr style=\"text-align: right;\">\n",
       "      <th></th>\n",
       "      <th>labels</th>\n",
       "      <th>MS</th>\n",
       "      <th>CSF</th>\n",
       "      <th>valid_clusters</th>\n",
       "      <th>CD4_labels</th>\n",
       "    </tr>\n",
       "  </thead>\n",
       "  <tbody>\n",
       "    <tr>\n",
       "      <th>0</th>\n",
       "      <td>Gran</td>\n",
       "      <td>False</td>\n",
       "      <td>True</td>\n",
       "      <td>True</td>\n",
       "      <td>-1</td>\n",
       "    </tr>\n",
       "    <tr>\n",
       "      <th>1</th>\n",
       "      <td>CD4</td>\n",
       "      <td>False</td>\n",
       "      <td>True</td>\n",
       "      <td>True</td>\n",
       "      <td>6</td>\n",
       "    </tr>\n",
       "    <tr>\n",
       "      <th>2</th>\n",
       "      <td>CD4</td>\n",
       "      <td>False</td>\n",
       "      <td>True</td>\n",
       "      <td>True</td>\n",
       "      <td>1</td>\n",
       "    </tr>\n",
       "    <tr>\n",
       "      <th>3</th>\n",
       "      <td>ncMono</td>\n",
       "      <td>False</td>\n",
       "      <td>True</td>\n",
       "      <td>True</td>\n",
       "      <td>-1</td>\n",
       "    </tr>\n",
       "    <tr>\n",
       "      <th>4</th>\n",
       "      <td>CD4</td>\n",
       "      <td>False</td>\n",
       "      <td>True</td>\n",
       "      <td>True</td>\n",
       "      <td>2</td>\n",
       "    </tr>\n",
       "    <tr>\n",
       "      <th>...</th>\n",
       "      <td>...</td>\n",
       "      <td>...</td>\n",
       "      <td>...</td>\n",
       "      <td>...</td>\n",
       "      <td>...</td>\n",
       "    </tr>\n",
       "    <tr>\n",
       "      <th>65321</th>\n",
       "      <td>RBC</td>\n",
       "      <td>False</td>\n",
       "      <td>False</td>\n",
       "      <td>False</td>\n",
       "      <td>-1</td>\n",
       "    </tr>\n",
       "    <tr>\n",
       "      <th>65322</th>\n",
       "      <td>CD8a</td>\n",
       "      <td>False</td>\n",
       "      <td>False</td>\n",
       "      <td>True</td>\n",
       "      <td>-1</td>\n",
       "    </tr>\n",
       "    <tr>\n",
       "      <th>65323</th>\n",
       "      <td>RBC</td>\n",
       "      <td>False</td>\n",
       "      <td>False</td>\n",
       "      <td>False</td>\n",
       "      <td>-1</td>\n",
       "    </tr>\n",
       "    <tr>\n",
       "      <th>65324</th>\n",
       "      <td>CD8n</td>\n",
       "      <td>False</td>\n",
       "      <td>False</td>\n",
       "      <td>True</td>\n",
       "      <td>-1</td>\n",
       "    </tr>\n",
       "    <tr>\n",
       "      <th>65325</th>\n",
       "      <td>RBC</td>\n",
       "      <td>False</td>\n",
       "      <td>False</td>\n",
       "      <td>False</td>\n",
       "      <td>-1</td>\n",
       "    </tr>\n",
       "  </tbody>\n",
       "</table>\n",
       "<p>65326 rows × 5 columns</p>\n",
       "</div>"
      ],
      "text/plain": [
       "       labels     MS    CSF valid_clusters CD4_labels\n",
       "0        Gran  False   True           True         -1\n",
       "1         CD4  False   True           True          6\n",
       "2         CD4  False   True           True          1\n",
       "3      ncMono  False   True           True         -1\n",
       "4         CD4  False   True           True          2\n",
       "...       ...    ...    ...            ...        ...\n",
       "65321     RBC  False  False          False         -1\n",
       "65322    CD8a  False  False           True         -1\n",
       "65323     RBC  False  False          False         -1\n",
       "65324    CD8n  False  False           True         -1\n",
       "65325     RBC  False  False          False         -1\n",
       "\n",
       "[65326 rows x 5 columns]"
      ]
     },
     "execution_count": 4,
     "metadata": {},
     "output_type": "execute_result"
    }
   ],
   "source": [
    "schafflick.obs"
   ]
  },
  {
   "cell_type": "markdown",
   "id": "5ba61c40-55eb-48c5-bc29-94ae6a5eb0e6",
   "metadata": {},
   "source": [
    "# Filter to PBMC/CSF only"
   ]
  },
  {
   "cell_type": "code",
   "execution_count": 5,
   "id": "ab95aa25-3078-44c0-b139-5ff2ec4dc5f7",
   "metadata": {},
   "outputs": [],
   "source": [
    "# remove doublets and contamination\n",
    "filt = schafflick[~((schafflick.obs.labels=='Mono Doublet')|(schafflick.obs.labels=='B cell doublets')|(schafflick.obs.labels=='doublet')|(schafflick.obs.labels=='contamination1'))]\n",
    "# filter out pbmc\n",
    "pbmc = filt[filt.obs.CSF == 'False']\n",
    "# labels includes RBC\n",
    "# repeat for csf\n",
    "csf = filt[filt.obs.CSF =='True']\n",
    "# no CD8n in CSF"
   ]
  },
  {
   "cell_type": "code",
   "execution_count": 6,
   "id": "36dbaa24-2401-4453-a19f-028b48a4ad76",
   "metadata": {},
   "outputs": [
    {
     "data": {
      "text/plain": [
       "(41730, 10266)"
      ]
     },
     "execution_count": 6,
     "metadata": {},
     "output_type": "execute_result"
    }
   ],
   "source": [
    "pbmc.shape"
   ]
  },
  {
   "cell_type": "code",
   "execution_count": 7,
   "id": "15fa6a3d-e894-46da-b5cf-10a6a51048ab",
   "metadata": {},
   "outputs": [
    {
     "data": {
      "text/plain": [
       "(21654, 10266)"
      ]
     },
     "execution_count": 7,
     "metadata": {},
     "output_type": "execute_result"
    }
   ],
   "source": [
    "csf.shape"
   ]
  },
  {
   "cell_type": "markdown",
   "id": "b4fdf08c-6c30-4989-9476-93277c8b33f0",
   "metadata": {},
   "source": [
    "# MAGMA input"
   ]
  },
  {
   "cell_type": "markdown",
   "id": "4ce0d077-fba4-423b-adca-0afbe6c84923",
   "metadata": {},
   "source": [
    "## PBMC"
   ]
  },
  {
   "cell_type": "code",
   "execution_count": 8,
   "id": "e419a4db-54bd-44dd-ba49-7a38fe3caed4",
   "metadata": {},
   "outputs": [],
   "source": [
    "gene_coordinates = pd.read_csv('data/NCBI37.3.gene.loc', sep = '\\t', names = ['ENTREZ', 'chr', 'gene_start', 'gene_end', 'strand', 'symbol'])"
   ]
  },
  {
   "cell_type": "code",
   "execution_count": 9,
   "id": "c088ae27-3540-4341-b956-ee7c20d494aa",
   "metadata": {},
   "outputs": [],
   "source": [
    "# filter out extended MHC locus1\n",
    "gene_coordinates = gene_coordinates[~((gene_coordinates['chr']!=6) & (gene_coordinates['gene_start']>25000000) & (gene_coordinates['gene_end']<34000000))]"
   ]
  },
  {
   "cell_type": "code",
   "execution_count": 10,
   "id": "3ad426fa-e176-4c10-9d6e-1734af602907",
   "metadata": {},
   "outputs": [],
   "source": [
    "gene_coordinates['start'] = gene_coordinates['gene_start'].apply(lambda x: 0 if (x-100000)<0 else (x-100000))\n",
    "gene_coordinates['end'] = gene_coordinates['gene_end'].apply(lambda x: x+100000)"
   ]
  },
  {
   "cell_type": "code",
   "execution_count": 13,
   "id": "b7fa1f82-453b-4081-8ae4-8ea4c4262331",
   "metadata": {},
   "outputs": [],
   "source": [
    "# convert to dataframe for pandas operations\n",
    "pbmc_counts = pbmc.to_df()\n",
    "csf_counts = csf.to_df()"
   ]
  },
  {
   "cell_type": "markdown",
   "id": "7941d477-373b-48b4-914c-6d4da75bae6a",
   "metadata": {},
   "source": [
    "## Run this for PBMC"
   ]
  },
  {
   "cell_type": "code",
   "execution_count": 15,
   "id": "c41079c4-fa97-49b1-a9be-1fb5c208c114",
   "metadata": {},
   "outputs": [],
   "source": [
    "aggr_exp = pbmc_counts.merge(pbmc.obs['labels'], right_index=True, left_index=True)\n",
    "cell_pop = \"pbmc\""
   ]
  },
  {
   "cell_type": "markdown",
   "id": "7fbd03e6-d52a-4642-abde-b8266e3fb3b3",
   "metadata": {},
   "source": [
    "## Run this for CSF"
   ]
  },
  {
   "cell_type": "code",
   "execution_count": 16,
   "id": "981f0c3e-7a88-471a-97be-996bdb8137cb",
   "metadata": {},
   "outputs": [],
   "source": [
    "aggr_exp = csf_counts.merge(csf.obs['labels'], right_index=True, left_index=True)\n",
    "cell_pop = \"csf\""
   ]
  },
  {
   "cell_type": "markdown",
   "id": "be85243a-b234-49c7-b05b-6a48dbacc9c1",
   "metadata": {},
   "source": [
    "## get total raw counts for each gene for each cell type"
   ]
  },
  {
   "cell_type": "code",
   "execution_count": 17,
   "id": "70353433-dedc-48b0-8913-7b3765e16829",
   "metadata": {},
   "outputs": [],
   "source": [
    "aggr_exp = aggr_exp.groupby('labels').sum()"
   ]
  },
  {
   "cell_type": "code",
   "execution_count": 18,
   "id": "97d276d2-ece7-4962-b4d5-445c92efc14f",
   "metadata": {},
   "outputs": [],
   "source": [
    "# calculate TPM for each gene in each cell type\n",
    "TPM = aggr_exp.apply(lambda i: (i*(10**6))/i.sum(), axis=1)"
   ]
  },
  {
   "cell_type": "code",
   "execution_count": 19,
   "id": "5903147a-9346-4e0b-b906-12ed8dc21473",
   "metadata": {},
   "outputs": [],
   "source": [
    "# calculate specificity = proportion of gene expressed by the cell type\n",
    "# drop any genes that are not expressed\n",
    "TPM = TPM.loc[:,(TPM!=0).any(axis=0)]\n",
    "specificity = TPM.apply(lambda j: j/j.sum(), axis=0)"
   ]
  },
  {
   "cell_type": "code",
   "execution_count": 20,
   "id": "cbc3fd5e-9a32-44b4-a1a6-1f131f6fdd39",
   "metadata": {},
   "outputs": [],
   "source": [
    "# filter for MAGMA genes\n",
    "magma_genes = gene_coordinates[gene_coordinates['symbol'].isin(specificity.columns)]\n",
    "specificity = specificity.loc[:,magma_genes['symbol']]"
   ]
  },
  {
   "cell_type": "code",
   "execution_count": 22,
   "id": "2cf95e9e-27ca-4fad-982b-5bb321e8fb7a",
   "metadata": {},
   "outputs": [],
   "source": [
    "# write specificity matrix to file\n",
    "specificity.to_csv(f'data/processed/{cell_pop}_MAGMA_specificity.csv', index=True, header=True)"
   ]
  },
  {
   "cell_type": "code",
   "execution_count": 23,
   "id": "cb2b89b4-072a-47f9-9c44-e319ba9d0a09",
   "metadata": {},
   "outputs": [],
   "source": [
    "# convert gene symbols to ENTREZ IDs\n",
    "rename_dict = dict(zip(magma_genes['symbol'], magma_genes['ENTREZ']))\n",
    "ENTREZ_specificity = specificity.rename(columns=rename_dict)"
   ]
  },
  {
   "cell_type": "code",
   "execution_count": 24,
   "id": "a731b38b-5e2f-430d-8bf6-df296d20c53b",
   "metadata": {},
   "outputs": [],
   "source": [
    "# get top 10 specific genes\n",
    "n_genes = round(0.1*ENTREZ_specificity.shape[1])\n",
    "top10 = ENTREZ_specificity.apply(lambda i: ENTREZ_specificity.sort_values(by=i.name, axis=1).columns[:n_genes], axis=1)"
   ]
  },
  {
   "cell_type": "code",
   "execution_count": 25,
   "id": "ca0f6519-be8e-42ef-b034-2b683f1cfe35",
   "metadata": {},
   "outputs": [],
   "source": [
    "df = pd.DataFrame(dict(zip(top10.index, top10)))"
   ]
  },
  {
   "cell_type": "code",
   "execution_count": 26,
   "id": "3ed0765b-fb1d-4db2-ac5c-36107d863b2f",
   "metadata": {},
   "outputs": [],
   "source": [
    "df.transpose().to_csv(f'data/processed/{cell_pop}_MAGMA_genesets.bed', index=True, header=False, sep='\\t')"
   ]
  },
  {
   "cell_type": "code",
   "execution_count": 27,
   "id": "fbe89ae6-0377-40a7-85be-142478a7187d",
   "metadata": {},
   "outputs": [],
   "source": [
    "# symbol version\n",
    "symb_top10 = specificity.apply(lambda i: specificity.sort_values(by=i.name, axis=1).columns[:n_genes], axis=1)\n",
    "df = pd.DataFrame(dict(zip(symb_top10.index, symb_top10)))\n",
    "df.transpose().to_csv(f'data/processed/{cell_pop}_MAGMA_genesets_symbols.tsv', index=True, header=True, sep='\\t')"
   ]
  },
  {
   "cell_type": "code",
   "execution_count": 33,
   "id": "d0fd9be5-9422-42f2-9b26-e00b4bcd32c8",
   "metadata": {},
   "outputs": [
    {
     "data": {
      "text/plain": [
       "labels\n",
       "B1        0.000000\n",
       "B2        0.064074\n",
       "CD4       0.042914\n",
       "CD8a      0.021863\n",
       "CD8n      0.000000\n",
       "Gran      0.000000\n",
       "Mono      0.000000\n",
       "NK1       0.000000\n",
       "NK2       0.000000\n",
       "Tdg       0.000000\n",
       "Tregs     0.871150\n",
       "mDC1      0.000000\n",
       "mDC2      0.000000\n",
       "ncMono    0.000000\n",
       "pDC       0.000000\n",
       "plasma    0.000000\n",
       "Name: FOXP3, dtype: float64"
      ]
     },
     "execution_count": 33,
     "metadata": {},
     "output_type": "execute_result"
    }
   ],
   "source": [
    "# sanity check: FOXP3 should be relatively specific for Tregs\n",
    "specificity['FOXP3']"
   ]
  }
 ],
 "metadata": {
  "kernelspec": {
   "display_name": "Python (scanpy)",
   "language": "python",
   "name": "scanpy"
  },
  "language_info": {
   "codemirror_mode": {
    "name": "ipython",
    "version": 3
   },
   "file_extension": ".py",
   "mimetype": "text/x-python",
   "name": "python",
   "nbconvert_exporter": "python",
   "pygments_lexer": "ipython3",
   "version": "3.10.6"
  }
 },
 "nbformat": 4,
 "nbformat_minor": 5
}
